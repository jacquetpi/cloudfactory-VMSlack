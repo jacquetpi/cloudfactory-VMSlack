{
 "cells": [
  {
   "cell_type": "code",
   "execution_count": 1,
   "id": "ba38e23b",
   "metadata": {},
   "outputs": [],
   "source": [
    "import pandas as pd\n",
    "import os.path\n",
    "import numpy as np\n",
    "import matplotlib.pyplot as plt\n",
    "import seaborn as sns"
   ]
  },
  {
   "cell_type": "code",
   "execution_count": 4,
   "id": "3fe39d15",
   "metadata": {},
   "outputs": [],
   "source": [
    "dataset_azure = pd.read_csv('results/preliminary.csv')"
   ]
  },
  {
   "cell_type": "code",
   "execution_count": 10,
   "id": "c1fc4a9d",
   "metadata": {},
   "outputs": [
    {
     "data": {
      "text/html": [
       "<div>\n",
       "<style scoped>\n",
       "    .dataframe tbody tr th:only-of-type {\n",
       "        vertical-align: middle;\n",
       "    }\n",
       "\n",
       "    .dataframe tbody tr th {\n",
       "        vertical-align: top;\n",
       "    }\n",
       "\n",
       "    .dataframe thead th {\n",
       "        text-align: right;\n",
       "    }\n",
       "</style>\n",
       "<table border=\"1\" class=\"dataframe\">\n",
       "  <thead>\n",
       "    <tr style=\"text-align: right;\">\n",
       "      <th></th>\n",
       "      <th>dataset</th>\n",
       "      <th>distribution</th>\n",
       "      <th>vm</th>\n",
       "      <th>label</th>\n",
       "      <th>host</th>\n",
       "      <th>hostoc1</th>\n",
       "      <th>hostoc2</th>\n",
       "      <th>hostoc3</th>\n",
       "    </tr>\n",
       "  </thead>\n",
       "  <tbody>\n",
       "    <tr>\n",
       "      <th>0</th>\n",
       "      <td>azure2017</td>\n",
       "      <td>oc1:0.0-oc2:0.0-oc3:1.0</td>\n",
       "      <td>100</td>\n",
       "      <td>vcluster</td>\n",
       "      <td>7</td>\n",
       "      <td>0.0</td>\n",
       "      <td>0.0</td>\n",
       "      <td>7.0</td>\n",
       "    </tr>\n",
       "    <tr>\n",
       "      <th>1</th>\n",
       "      <td>azure2017</td>\n",
       "      <td>oc1:0.0-oc2:0.0-oc3:1.0</td>\n",
       "      <td>100</td>\n",
       "      <td>cluster</td>\n",
       "      <td>7</td>\n",
       "      <td>NaN</td>\n",
       "      <td>NaN</td>\n",
       "      <td>NaN</td>\n",
       "    </tr>\n",
       "    <tr>\n",
       "      <th>2</th>\n",
       "      <td>azure2017</td>\n",
       "      <td>oc1:0.0-oc2:0.0-oc3:1.0</td>\n",
       "      <td>200</td>\n",
       "      <td>vcluster</td>\n",
       "      <td>12</td>\n",
       "      <td>0.0</td>\n",
       "      <td>0.0</td>\n",
       "      <td>12.0</td>\n",
       "    </tr>\n",
       "    <tr>\n",
       "      <th>3</th>\n",
       "      <td>azure2017</td>\n",
       "      <td>oc1:0.0-oc2:0.0-oc3:1.0</td>\n",
       "      <td>200</td>\n",
       "      <td>cluster</td>\n",
       "      <td>12</td>\n",
       "      <td>NaN</td>\n",
       "      <td>NaN</td>\n",
       "      <td>NaN</td>\n",
       "    </tr>\n",
       "    <tr>\n",
       "      <th>4</th>\n",
       "      <td>azure2017</td>\n",
       "      <td>oc1:0.0-oc2:0.0-oc3:1.0</td>\n",
       "      <td>300</td>\n",
       "      <td>vcluster</td>\n",
       "      <td>19</td>\n",
       "      <td>0.0</td>\n",
       "      <td>0.0</td>\n",
       "      <td>19.0</td>\n",
       "    </tr>\n",
       "  </tbody>\n",
       "</table>\n",
       "</div>"
      ],
      "text/plain": [
       "     dataset             distribution   vm     label  host  hostoc1  hostoc2   \n",
       "0  azure2017  oc1:0.0-oc2:0.0-oc3:1.0  100  vcluster     7      0.0      0.0  \\\n",
       "1  azure2017  oc1:0.0-oc2:0.0-oc3:1.0  100   cluster     7      NaN      NaN   \n",
       "2  azure2017  oc1:0.0-oc2:0.0-oc3:1.0  200  vcluster    12      0.0      0.0   \n",
       "3  azure2017  oc1:0.0-oc2:0.0-oc3:1.0  200   cluster    12      NaN      NaN   \n",
       "4  azure2017  oc1:0.0-oc2:0.0-oc3:1.0  300  vcluster    19      0.0      0.0   \n",
       "\n",
       "   hostoc3  \n",
       "0      7.0  \n",
       "1      NaN  \n",
       "2     12.0  \n",
       "3      NaN  \n",
       "4     19.0  "
      ]
     },
     "execution_count": 10,
     "metadata": {},
     "output_type": "execute_result"
    }
   ],
   "source": [
    "dataset_azure.head()"
   ]
  },
  {
   "cell_type": "code",
   "execution_count": 9,
   "id": "4642b1e0",
   "metadata": {},
   "outputs": [
    {
     "data": {
      "text/plain": [
       "array(['oc1:0.0-oc2:0.0-oc3:1.0', 'oc1:0.0-oc2:0.25-oc3:0.75',\n",
       "       'oc1:0.0-oc2:0.5-oc3:0.5', 'oc1:0.0-oc2:0.75-oc3:0.25'],\n",
       "      dtype=object)"
      ]
     },
     "execution_count": 9,
     "metadata": {},
     "output_type": "execute_result"
    }
   ],
   "source": [
    "dataset_azure['distribution'].unique()"
   ]
  },
  {
   "cell_type": "code",
   "execution_count": 11,
   "id": "80baf520",
   "metadata": {},
   "outputs": [
    {
     "data": {
      "text/plain": [
       "<seaborn.axisgrid.FacetGrid at 0x7faebd3b8910>"
      ]
     },
     "execution_count": 11,
     "metadata": {},
     "output_type": "execute_result"
    },
    {
     "data": {
      "image/png": "[encoded data removed]",
      "text/plain": [
       "<Figure size 1305.38x300 with 4 Axes>"
      ]
     },
     "metadata": {},
     "output_type": "display_data"
    }
   ],
   "source": [
    "g = sns.FacetGrid(dataset_azure, col=\"distribution\", hue=\"label\")\n",
    "g.map(sns.scatterplot, \"vm\", \"host\", alpha=.7)\n",
    "g.add_legend()"
   ]
  }
 ],
 "metadata": {
  "kernelspec": {
   "display_name": "Python 3 (ipykernel)",
   "language": "python",
   "name": "python3"
  },
  "language_info": {
   "codemirror_mode": {
    "name": "ipython",
    "version": 3
   },
   "file_extension": ".py",
   "mimetype": "text/x-python",
   "name": "python",
   "nbconvert_exporter": "python",
   "pygments_lexer": "ipython3",
   "version": "3.10.12"
  }
 },
 "nbformat": 4,
 "nbformat_minor": 5
}
